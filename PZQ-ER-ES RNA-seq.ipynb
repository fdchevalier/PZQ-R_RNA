{
 "cells": [
  {
   "cell_type": "markdown",
   "metadata": {},
   "source": [
    "# Transcriptomic analysis of SmLE-PZQ-ER and ES\n",
    "\n",
    "\n",
    "## Aim\n",
    "\n",
    "Our genome-wide association study (GWAS) revealed that a quantitative trait locus (QTL) on chromosome 3 of *S. mansoni* is linked to praziquantel (PZQ) response. This QTL includes the *Sm.TRPM$_{PZQ}$* gene which is strongly suspected to be the target of PZQ. However no obvious mutations in this gene could explain the resistance. Alternatively, gene expression could be another mechanism, especially knowing that juveniles worms of sensitive populations are naturally resistant. Following our GWAS, we generated two schistosome populations using a marker-assisted selection: SmLE-PZQ-ER population enriched in resistant (ER) allele and SmLE-PZQ-ES encriched in sensitive (ES) allele. The two purified populations differ by more than 377-fold in PZQ response. These populations are therefore ideal to investigate gene regulation that could be linked to PZQ resistance.\n",
    "\n",
    "To understand this differencein PZQ response, we analyze gene expression of juvenile and adult worms from SmLE-PZQ-ER and SmLE-PZQ-ES populations to test if gene expression differences could be associated to the phenotype. We hypothesize that gene expression should differ between ER and ES adults but not necessarily between ER and ES juveniles as those are naturally recovering from the PZQ treatment (like all juveniles).\n",
    "\n",
    "**Update**: A new version of the genome and associated annotation has been released since the publication of these results ([Le Clec'h *et al.* 2021](https://doi.org/10.1126/scitranslmed.abj9114)). This new annotation includes revised gene models and associated isoforms. The number of isoforms was overall dramatically reduced, including a reduction from 7 to 3 isoforms for the *Sm.TRPM$_{PZQ}$* gene. We used this new annotation to reanalyze the transcriptomic data and investigate whether the *Sm.TRPM$_{PZQ}$* gene is still differentially expressed. We also checked if other genes under the revised QTL are diffenrentially expressed. In addition, we reanalyzed the isoform expression. The revised analysis confirmed that the *Sm.TRPM$_{PZQ}$* gene is the only diffentially epxressed gene under the QTL, and that the isoform 1 is mainly responsible for this difference. Our previous  hypothesis that isoform 6 expression might be associated with PZQ sensitivity because of its high expression only in SmLE-PZQ-ES adult males no longer holds, as isoform 6 no longer exists.\n",
    "\n",
    "\n",
    "## Environment and data\n",
    "\n",
    "Creating a conda environment improves reproducibility by installing specific versions of the programs used."
   ]
  },
  {
   "cell_type": "code",
   "execution_count": null,
   "metadata": {},
   "outputs": [],
   "source": [
    "conda env create -f .env/env.yml"
   ]
  },
  {
   "cell_type": "markdown",
   "metadata": {},
   "source": [
    "The cell below must be run each time a new Jupyter session is run."
   ]
  },
  {
   "cell_type": "code",
   "execution_count": null,
   "metadata": {},
   "outputs": [],
   "source": [
    "# Activate the environment\n",
    "source $(sed \"s,/bin/conda,,\" <<<$CONDA_EXE)/etc/profile.d/conda.sh\n",
    "conda activate PZQ-R_RNA\n",
    "\n",
    "# Remove potential variable interferences\n",
    "export PERL5LIB=\"\"\n",
    "export PYTHONNOUSERSITE=1"
   ]
  },
  {
   "cell_type": "code",
   "execution_count": null,
   "metadata": {},
   "outputs": [],
   "source": [
    "# Directories\n",
    "gdir=\"data/genome/\"\n",
    "ldir=\"data/libraries/\"\n",
    "resdir=\"results/\"\n",
    "\n",
    "# Sm genome\n",
    "sm_acc=schistosoma_mansoni.PRJEA36577.WBPS18\n",
    "sm_genome=${sm_acc}.genomic.fa\n",
    "sm_ann=${sm_acc}.annotations.gff3\n",
    "sm_ann_gtf=${sm_acc}.annotations.gtf\n",
    "\n",
    "sm_acc_v7=schistosoma_mansoni.PRJEA36577.WBPS14\n",
    "sm_ann_v7=${sm_acc_v7}.annotations.gff3"
   ]
  },
  {
   "cell_type": "markdown",
   "metadata": {},
   "source": [
    "The cell below must be run only once at the time of the environment creation."
   ]
  },
  {
   "cell_type": "code",
   "execution_count": null,
   "metadata": {},
   "outputs": [],
   "source": [
    "# Installing needed R packages\n",
    "Rscript \".env/R package dependencies.R\""
   ]
  },
  {
   "cell_type": "markdown",
   "metadata": {},
   "source": [
    "### Sequencing data\n",
    "\n",
    "This step downloads the fastq files of the different samples from the SRA repository."
   ]
  },
  {
   "cell_type": "code",
   "execution_count": null,
   "metadata": {},
   "outputs": [],
   "source": [
    "# Data directory\n",
    "ldir=\"data/libraries\"\n",
    "[[ ! -d \"$ldir\" ]] && mkdir -p \"$ldir\""
   ]
  },
  {
   "cell_type": "code",
   "execution_count": null,
   "metadata": {},
   "outputs": [],
   "source": [
    "# Bioproject\n",
    "bioproject=PRJNA704646\n",
    "\n",
    "# Download related information to data project\n",
    "wget -q -O runinfo \"http://trace.ncbi.nlm.nih.gov/Traces/sra/sra.cgi?save=efetch&rettype=runinfo&db=sra&term=${bioproject}\"\n",
    "\n",
    "# Field of interest (library name and weblink)\n",
    "fdn=$(head -n 1 runinfo | tr \",\" \"\\n\" | grep -w -n \"SampleName\" | cut -d \":\" -f 1)\n",
    "fdr=$(head -n 1 runinfo | tr \",\" \"\\n\" | grep -w -n \"Run\" | cut -d \":\" -f 1)\n",
    "flk=$(head -n 1 runinfo | tr \",\" \"\\n\" | grep -w -n \"download_path\" | cut -d \":\" -f 1)\n",
    "\n",
    "# Download fastq files\n",
    "while read line\n",
    "do\n",
    "    # Filename, run and download link\n",
    "    fln=$(cut -d \",\" -f $fdn <<<$line)\n",
    "    run=$(cut -d \",\" -f $fdr <<<$line)\n",
    "    lnk=$(cut -d \",\" -f $flk <<<$line)\n",
    "    \n",
    "    # Download\n",
    "    echo \"$fln\"\n",
    "    [[ ! -d \"$ldir/$fln/\" ]] && mkdir -p \"$ldir/$fln/\"\n",
    "    retry=0\n",
    "    \n",
    "    while [[ $retry -lt 2 ]]\n",
    "    do\n",
    "        # Download sra file\n",
    "        wget -q -c -O \"$ldir/$fln/$run\" \"$lnk\"\n",
    "        # Check integrity\n",
    "        vdb-validate -q \"$ldir/$fln/$run\" &> /dev/null\n",
    "        [[ $? -ne 0 ]] && ((retry++)) || break\n",
    "    done\n",
    "    \n",
    "    # If max download attempt reached, issue message and move to the next\n",
    "    [[ $retry -eq 2 ]] && echo \"$run: dowloading problem\" >> \"$ldir/download_issue\" && contine\n",
    "    \n",
    "    # Convert sra into fastq\n",
    "    fastq-dump -O \"$ldir/$fln/\" --split-files \"$ldir/$fln/$run\"\n",
    "    rm \"$ldir/$fln/$run\"\n",
    "    \n",
    "    # Rename file with more meaningful name\n",
    "    mv \"$ldir/$fln/${run}_1.fastq\" \"$ldir/$fln/${fln}_R1.fastq\"\n",
    "    mv \"$ldir/$fln/${run}_2.fastq\" \"$ldir/$fln/${fln}_R2.fastq\"\n",
    "    \n",
    "done < <(tail -n +2 runinfo | sed \"/^$/d\")\n",
    "\n",
    "# Compress files\n",
    "pigz \"$ldir/\"*/*\n",
    "\n",
    "rm runinfo*"
   ]
  },
  {
   "cell_type": "markdown",
   "metadata": {},
   "source": [
    "### Genome data and annotation\n",
    "\n",
    "The genome data and its annotation is downloaded from the [WormBase ParaSite](https://parasite.wormbase.org). We use the  version 10 of the genome (WBPS18)."
   ]
  },
  {
   "cell_type": "code",
   "execution_count": null,
   "metadata": {},
   "outputs": [],
   "source": [
    "gdir=\"data/genome\"\n",
    "[[ ! -d \"$gdir\" ]] && mkdir \"$gdir\""
   ]
  },
  {
   "cell_type": "code",
   "execution_count": null,
   "metadata": {},
   "outputs": [],
   "source": [
    "# Genome\n",
    "wget -P \"$gdir\" ftp://ftp.ebi.ac.uk/pub/databases/wormbase/parasite/releases/${sm_acc:31:6}/species/${sm_acc:0:19}/${sm_acc:20:10}/${sm_genome}.gz\n",
    "pigz -d \"$gdir/$sm_genome.gz\"\n",
    "\n",
    "# Annotation\n",
    "wget -P \"$gdir\" ftp://ftp.ebi.ac.uk/pub/databases/wormbase/parasite/releases/${sm_acc:31:6}/species/${sm_acc:0:19}/${sm_acc:20:10}/${sm_ann}.gz\n",
    "pigz -d \"$gdir/$sm_ann.gz\""
   ]
  },
  {
   "cell_type": "markdown",
   "metadata": {},
   "source": [
    "STAR will be used to align data and RSEM will be used to generate transcript per million (TPM) counts. These two tools need to pre-process the reference genome.\n",
    "\n",
    "To compare gene models between genome versions, we also need to download the annotation of the v7 genome from the WormBase ParaSite."
   ]
  },
  {
   "cell_type": "code",
   "execution_count": null,
   "metadata": {},
   "outputs": [],
   "source": [
    "# V7 annotation\n",
    "wget -P \"$gdir\" ftp://ftp.ebi.ac.uk/pub/databases/wormbase/parasite/releases/${sm_acc_v7:31:6}/species/${sm_acc_v7:0:19}/${sm_acc_v7:20:10}/${sm_ann_v7}.gz\n",
    "pigz -d \"$gdir/$sm_ann_v7.gz\""
   ]
  },
  {
   "cell_type": "markdown",
   "metadata": {},
   "source": [
    "### STAR reference genome\n",
    "\n",
    "Creating a STAR reference genome requires the use of an annotation file. A GFF file is a format that can be normally used with STAR. However my first attempt to generate a STAR reference genome using the official GFF file of the genome and the `--sjdbGTFtagExonParentTranscript Parent` option as mentioned in the manual did not allow me to get gene counts after running STAR on sample (the gene count file contains the first 4 lines only). This problem is very similar to [this](https://groups.google.com/forum/#!msg/rna-star/oRvzihFXE8k/Xa-7YgUUBgAJ). Therefore I converted the GFF file into a GTF file which is the default format used by STAR and this solved the problem."
   ]
  },
  {
   "cell_type": "code",
   "execution_count": null,
   "metadata": {},
   "outputs": [],
   "source": [
    "# Convert GFF into GTF file\n",
    "gffread \"$gdir/$sm_ann\" -T -o \"$gdir/$sm_ann_gtf\""
   ]
  },
  {
   "cell_type": "code",
   "execution_count": null,
   "metadata": {},
   "outputs": [],
   "source": [
    "# Overhang\n",
    "i=149\n",
    "\n",
    "# Make STAR ref folder\n",
    "mkdir \"$gdir/S.mansoni_STAR_${i}\"\n",
    "\n",
    "STAR --runMode genomeGenerate \\\n",
    "     --runThreadN $(nproc)    \\\n",
    "     --genomeSAindexNbases 13 \\\n",
    "     --genomeDir \"$gdir/S.mansoni_STAR_${i}\" \\\n",
    "     --genomeFastaFiles \"$gdir/$sm_genome\" \\\n",
    "     --sjdbGTFfile \"$gdir/$sm_ann_gtf\" \\\n",
    "     --sjdbOverhang $i\n",
    "\n",
    "# Move log\n",
    "mv Log.out \"$gdir/S.mansoni_STAR_${i}/\""
   ]
  },
  {
   "cell_type": "markdown",
   "metadata": {},
   "source": [
    "### RSEM reference\n",
    "\n",
    "RSEM requires to generate a reference using the GFF or GTF and the reference genome file as mentioned in the documentation."
   ]
  },
  {
   "cell_type": "code",
   "execution_count": null,
   "metadata": {},
   "outputs": [],
   "source": [
    "# Make RSEM ref folder\n",
    "mkdir \"$gdir/S.mansoni_RSEM\"\n",
    "\n",
    "rsem-prepare-reference --gtf \"$gdir/$sm_ann_gtf\" \\\n",
    "        -p $(nproc) \\\n",
    "        \"$gdir/$sm_genome\" \\\n",
    "        \"$gdir/S.mansoni_RSEM/S.mansoni\" > \"$gdir/S.mansoni_RSEM/log\""
   ]
  },
  {
   "cell_type": "markdown",
   "metadata": {},
   "source": [
    "## Data quality\n",
    "\n",
    "To ensure that sequencing was done properly, we analyze the data quality of each library using MultiQC."
   ]
  },
  {
   "cell_type": "code",
   "execution_count": null,
   "metadata": {},
   "outputs": [],
   "source": [
    "# Directory to store status files\n",
    "statdir=\"status\"\n",
    "[[ ! -d \"$statdir\" ]] && mkdir \"$statdir\"\n",
    "\n",
    "# Directory to store results\n",
    "resdir=\"results\"\n",
    "[[ -d \"$resdir\" ]] || mkdir \"$resdir\""
   ]
  },
  {
   "cell_type": "code",
   "execution_count": null,
   "metadata": {},
   "outputs": [],
   "source": [
    "# Run FastQC for each fastq file\n",
    "for i in $(find . -name *fastq.gz)\n",
    "do\n",
    "    qsub -V -cwd -o \"$statdir\" -j y -r y -pe smp 12 -b y fastqc --noextract -t $(nproc) \"$i\"\n",
    "done\n",
    "\n",
    "# Global MultiQC report\n",
    "multiqc -ip -o \"$resdir/1-report/\" data/libraries"
   ]
  },
  {
   "cell_type": "markdown",
   "metadata": {},
   "source": [
    "Report is located in `results/1-report`."
   ]
  },
  {
   "cell_type": "markdown",
   "metadata": {},
   "source": [
    "## Alignment and quantification\n",
    "\n",
    "We use a snakemake pipeline to align using STAR and perform transcript quantification using RSEM. The command used is written to run the pipeline on Grid Engine cluster. If data and genome folder have been modified, these modifications must be reported in the snakemake file.\n",
    "\n",
    "N.B.: if more than 12 cores need to be used (see .env/config.yaml), first check the maximum number of files that you are allowed to open using `ulimit -n`. If the limit is 1024, STAR will crash (see [source](https://github.com/alexdobin/STAR/issues/269)). You will need to increase this limit to a higher number."
   ]
  },
  {
   "cell_type": "code",
   "execution_count": null,
   "metadata": {},
   "outputs": [],
   "source": [
    "# Directory to store status files\n",
    "statdir=status\n",
    "[[ ! -d \"$statdir\" ]] && mkdir \"$statdir\"\n",
    "\n",
    "# Snakemake pipeline\n",
    "snakemake --snakefile snakefile --profile .env/"
   ]
  },
  {
   "cell_type": "markdown",
   "metadata": {},
   "source": [
    "After alignment, gene and isoforms are counted using RSEM."
   ]
  },
  {
   "cell_type": "code",
   "execution_count": null,
   "metadata": {},
   "outputs": [],
   "source": [
    "# Quuantification folder\n",
    "qdir=\"$resdir/3-quantification\"\n",
    "[[ ! -d \"$qdir\" ]] && mkdir \"$qdir\"\n",
    "\n",
    "rsem-generate-data-matrix \"$ldir/\"*/*isoforms.results > \"$qdir/PZQ-ER-ES.isoform.counts.matrix\"\n",
    "rsem-generate-data-matrix \"$ldir/\"*/*genes.results > \"$qdir/PZQ-ER-ES.gene.counts.matrix\""
   ]
  },
  {
   "cell_type": "markdown",
   "metadata": {},
   "source": [
    "## Gene and isoform expression analysis\n",
    "\n",
    "\n",
    "### Factors structuring the data\n",
    "\n",
    "We first ensure that the transcriptomic variations is first explained by the sample type rather than any other factors. For this we performed a GLM-PCA on the expression data of each sample."
   ]
  },
  {
   "cell_type": "code",
   "execution_count": null,
   "metadata": {},
   "outputs": [],
   "source": [
    "# GLM-PCA to test if other than biological effects exists\n",
    "Rscript scripts/RNA-seq_PCA.R"
   ]
  },
  {
   "cell_type": "markdown",
   "metadata": {},
   "source": [
    "This shows that the samples clustered first by stage, then by sex. No other factors (like sequencing lane) explain the structuration of the data.\n",
    "\n",
    "\n",
    "### Global analysis\n",
    "\n",
    "We look at differences in gene and isoform expression between ER and ES populations and between stages. We also highlight the genes under QTL 2 and QTL 3 (listed in `results/2-QTL`). The QTL were obtained from the genome-wide association study (GWAS) conducted on SmLE-PZQ-R (see the [GWAS analysis](https://github.com/fdchevalier/PZQ-R_DNA-seq))."
   ]
  },
  {
   "cell_type": "code",
   "execution_count": null,
   "metadata": {},
   "outputs": [],
   "source": [
    "# Directory\n",
    "genedir=\"results/2-QTL\"\n",
    "[[ ! -d \"$genedir\" ]] && mkdir -p \"$genedir\"\n",
    "\n",
    "# BED files of the QTL boundaries\n",
    "bed3=$(echo -e \"SM_V10_3\\t271314\\t5994738\")\n",
    "\n",
    "#List of genes under QTL of chr. 3\n",
    "bedtools intersect -a \"$gdir/$sm_ann\" -b <(echo \"$bed3\") -wa |\\\n",
    "    awk '$3 == \"gene\"' |\\\n",
    "    cut -f 9 |\\\n",
    "    cut -d \";\" -f 1 |\\\n",
    "    cut -d \":\" -f 2 |\\\n",
    "    sort -u > \"$genedir/QTL_genes_chr3\""
   ]
  },
  {
   "cell_type": "code",
   "execution_count": null,
   "metadata": {},
   "outputs": [],
   "source": [
    "# Formal analysis of the complete RNA-seq data\n",
    "Rscript scripts/RNA-seq_analysis.R"
   ]
  },
  {
   "cell_type": "markdown",
   "metadata": {},
   "source": [
    "Results show that gene expression of *Sm.TRPM$_{PZQ}$* is lower in ER males than ES males and this is mainly driven by one isoform (isoform 1).\n",
    "\n",
    "\n",
    "### Sm.TRPM$_{PZQ}$ expression analysis\n",
    "\n",
    "We focus our analysis on the *Sm.TRPM$_{PZQ}$* gene specifically to understand pattern of expression in each schistosome stage and sex."
   ]
  },
  {
   "cell_type": "code",
   "execution_count": null,
   "metadata": {},
   "outputs": [],
   "source": [
    "# Specific analysis of Smp_246790\n",
    "Rscript scripts/RNA-seq_TRP_analysis.R"
   ]
  },
  {
   "cell_type": "markdown",
   "metadata": {},
   "source": [
    "Results show that gene expression of *Sm.TRPM$_{PZQ}$* in male or female juveniles is similar to the expression of adult males.\n",
    "\n",
    "Scripts generating the figures included in the manuscript."
   ]
  },
  {
   "cell_type": "code",
   "execution_count": null,
   "metadata": {},
   "outputs": [],
   "source": [
    "Rscript scripts/Fig2.R\n",
    "Rscript scripts/Supp_Fig4.R"
   ]
  }
 ],
 "metadata": {
  "kernelspec": {
   "display_name": "Bash",
   "language": "bash",
   "name": "bash"
  },
  "language_info": {
   "codemirror_mode": "shell",
   "file_extension": ".sh",
   "mimetype": "text/x-sh",
   "name": "bash"
  },
  "toc": {
   "base_numbering": 1,
   "nav_menu": {},
   "number_sections": false,
   "sideBar": true,
   "skip_h1_title": true,
   "title_cell": "Table of Contents",
   "title_sidebar": "Contents",
   "toc_cell": false,
   "toc_position": {},
   "toc_section_display": true,
   "toc_window_display": true
  },
  "varInspector": {
   "cols": {
    "lenName": 16,
    "lenType": 16,
    "lenVar": 40
   },
   "kernels_config": {
    "python": {
     "delete_cmd_postfix": "",
     "delete_cmd_prefix": "del ",
     "library": "var_list.py",
     "varRefreshCmd": "print(var_dic_list())"
    },
    "r": {
     "delete_cmd_postfix": ") ",
     "delete_cmd_prefix": "rm(",
     "library": "var_list.r",
     "varRefreshCmd": "cat(var_dic_list()) "
    }
   },
   "types_to_exclude": [
    "module",
    "function",
    "builtin_function_or_method",
    "instance",
    "_Feature"
   ],
   "window_display": false
  }
 },
 "nbformat": 4,
 "nbformat_minor": 4
}
