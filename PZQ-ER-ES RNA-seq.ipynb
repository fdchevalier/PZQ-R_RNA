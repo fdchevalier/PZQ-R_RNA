{
 "cells": [
  {
   "cell_type": "markdown",
   "metadata": {},
   "source": [
    "# PZQ-ER-ES RNA-seq\n",
    "\n",
    "\n",
    "## Aim\n",
    "\n",
    "We will analyze gene expression of juvenile and adult worms from SmLE-PZQ-ER and SmLE-PZQ-ES populations to test if gene expression differences could be associated to the phenotype. The hypothesis is that we should observed differences in expression between ER and ES adults but not necessarily between ER and ES juveniles as those are naturally recovering from the PZQ treatment independently of the adult status.\n",
    "\n",
    "\n",
    "## Environment and data"
   ]
  },
  {
   "cell_type": "code",
   "execution_count": null,
   "metadata": {},
   "outputs": [],
   "source": [
    "conda env create -f .env/env.yml"
   ]
  },
  {
   "cell_type": "markdown",
   "metadata": {},
   "source": [
    "The cell below must be run each time a new Jupyter session is run."
   ]
  },
  {
   "cell_type": "code",
   "execution_count": null,
   "metadata": {
    "ExecuteTime": {
     "end_time": "2021-06-06T15:55:40.181021Z",
     "start_time": "2021-06-06T15:55:34.793766Z"
    }
   },
   "outputs": [],
   "source": [
    "# Activate the environment\n",
    "source $(sed \"s,/bin/conda,,\" <<<$CONDA_EXE)/etc/profile.d/conda.sh\n",
    "conda activate PZQ-R\n",
    "\n",
    "# Remove potential variable interferences\n",
    "export PERL5LIB=\"\"\n",
    "export PYTHONNOUSERSITE=1"
   ]
  },
  {
   "cell_type": "markdown",
   "metadata": {},
   "source": [
    "The cell below must be run only once at the time of the environment creation."
   ]
  },
  {
   "cell_type": "code",
   "execution_count": null,
   "metadata": {
    "ExecuteTime": {
     "end_time": "2021-01-25T23:14:00.037415Z",
     "start_time": "2021-01-25T23:13:41.513544Z"
    }
   },
   "outputs": [],
   "source": [
    "# Installing needed R packages\n",
    "Rscript \".env/R package dependencies.R\""
   ]
  },
  {
   "cell_type": "markdown",
   "metadata": {},
   "source": [
    "### Sequencing data\n",
    "\n",
    "This step downloads the fastq files of the different samples from the SRA repository."
   ]
  },
  {
   "cell_type": "code",
   "execution_count": null,
   "metadata": {
    "ExecuteTime": {
     "end_time": "2021-01-19T04:47:46.669522Z",
     "start_time": "2021-01-19T04:47:46.105569Z"
    }
   },
   "outputs": [],
   "source": [
    "# Data directory\n",
    "ldir=\"data/libraries\"\n",
    "[[ ! -d \"$ldir\" ]] && mkdir -p \"$ldir\""
   ]
  },
  {
   "cell_type": "code",
   "execution_count": null,
   "metadata": {},
   "outputs": [],
   "source": [
    "# Bioproject\n",
    "bioproject=     # ERP114942 !! TO BE UPDATED\n",
    "\n",
    "# Download related information to data project\n",
    "wget -q -O runinfo \"http://trace.ncbi.nlm.nih.gov/Traces/sra/sra.cgi?save=efetch&rettype=runinfo&db=sra&term=${bioproject}\"\n",
    "\n",
    "# Field of interest (library name and weblink)\n",
    "fdn=$(head -n 1 runinfo | tr \",\" \"\\n\" | grep -w -n \"SampleName\" | cut -d \":\" -f 1)\n",
    "fdr=$(head -n 1 runinfo | tr \",\" \"\\n\" | grep -w -n \"Run\" | cut -d \":\" -f 1)\n",
    "flk=$(head -n 1 runinfo | tr \",\" \"\\n\" | grep -w -n \"download_path\" | cut -d \":\" -f 1)\n",
    "\n",
    "# Download fastq files\n",
    "while read line\n",
    "do\n",
    "    # Filename, run and download link\n",
    "    fln=$(cut -d \",\" -f $fdn <<<$line)\n",
    "    run=$(cut -d \",\" -f $fdr <<<$line)\n",
    "    lnk=$(cut -d \",\" -f $flk <<<$line)\n",
    "    \n",
    "    # Download\n",
    "    echo \"$fln\"\n",
    "    [[ ! -d \"$ldir/$fln/\" ]] && mkdir -p \"$ldir/$fln/\"\n",
    "    retry=0\n",
    "    \n",
    "    while [[ $retry -lt 2 ]]\n",
    "    do\n",
    "        # Download sra file\n",
    "        wget -q -c -O \"$ldir/$fln/$run\" \"$lnk\"\n",
    "        # Check integrity\n",
    "        vdb-validate -q \"$ldir/$fln/$run\" &> /dev/null\n",
    "        [[ $? -ne 0 ]] && ((retry++)) || break\n",
    "    done\n",
    "    \n",
    "    # If max download attempt reached, issue message and move to the next\n",
    "    [[ $retry -eq 2 ]] && echo \"$run: dowloading problem\" >> \"$ldir/download_issue\" && contine\n",
    "    \n",
    "    # Convert sra into fastq\n",
    "    fastq-dump -O \"$ldir/$fln/\" --split-files \"$ldir/$fln/$run\"\n",
    "    rm \"$ldir/$fln/$run\"\n",
    "    \n",
    "    # Rename file with more meaningful name\n",
    "    mv \"$ldir/$fln/${run}_1.fastq\" \"$ldir/$fln/${fln}_R1.fastq\"\n",
    "    mv \"$ldir/$fln/${run}_2.fastq\" \"$ldir/$fln/${fln}_R2.fastq\"\n",
    "    \n",
    "done < <(tail -n +2 runinfo | sed \"/^$/d\")\n",
    "\n",
    "# Compress files\n",
    "pigz \"$ldir/\"*/*\n",
    "\n",
    "rm runinfo*"
   ]
  },
  {
   "cell_type": "markdown",
   "metadata": {},
   "source": [
    "### Genome data and annotation\n",
    "\n",
    "The genome data is downloaded from the [WormBase ParaSite](https://parasite.wormbase.org). We use the data from the version 14 (WBPS14). The data is then indexed for the different tools used."
   ]
  },
  {
   "cell_type": "code",
   "execution_count": null,
   "metadata": {},
   "outputs": [],
   "source": [
    "gdir=\"data/genome\"\n",
    "[[ ! -d \"$gdir\" ]] && mkdir \"$gdir\"\n",
    "\n",
    "# Genome\n",
    "wget -P \"$gdir\" ftp://ftp.ebi.ac.uk/pub/databases/wormbase/parasite/releases/WBPS14/species/schistosoma_mansoni/PRJEA36577/schistosoma_mansoni.PRJEA36577.WBPS14.genomic.fa.gz\n",
    "pigz -d \"$gdir/schistosoma_mansoni.PRJEA36577.WBPS14.genomic.fa.gz\"\n",
    "\n",
    "# Annotation\n",
    "wget -P \"$gdir\" ftp://ftp.ebi.ac.uk/pub/databases/wormbase/parasite/releases/WBPS14/species/schistosoma_mansoni/PRJEA36577/schistosoma_mansoni.PRJEA36577.WBPS14.annotations.gff3.gz\n",
    "pigz -d \"$gdir/schistosoma_mansoni.PRJEA36577.WBPS14.annotations.gff3.gz\""
   ]
  },
  {
   "cell_type": "markdown",
   "metadata": {},
   "source": [
    "STAR will be used to align data and RSEM will be used to generate transcript per million (TPM) counts. These two tools require a step to prepare the reference genome.\n",
    "\n",
    "### STAR reference genome\n",
    "\n",
    "Creating a STAR reference genome requires the use of an annotation file. The Sanger Institute provided us with a GFF file which a format that can be normally used with STAR. However my first attempt to generate a STAR reference genome using the `--sjdbGTFtagExonParentTranscript Parent` option as mentioned in the manual did not allow me to get gene counts after running STAR on sample (the gene count file contains only the first 4 lines). This problem is very similar to [this](https://groups.google.com/forum/#!msg/rna-star/oRvzihFXE8k/Xa-7YgUUBgAJ). Therefore I converted the GFF file into a GTF file which is the default format used by STAR and this solved the problem.\n",
    "\n",
    "Because the data used were generated on different platforms that produced different read sizes, I made two reference genomes using different values for the `--sjdbOverhang` option as recommended in the STAR documentation:\n",
    "* A value of 75 for libraries that have 76 bp paired-end reads (the Protasio *et al* 2012).\n",
    "* A value of 99 for libraries that have 100 bp paired-end reads (all the others)."
   ]
  },
  {
   "cell_type": "code",
   "execution_count": null,
   "metadata": {},
   "outputs": [],
   "source": [
    "# Convert GFF into GTF file\n",
    "gffread \"$gdir/schistosoma_mansoni.PRJEA36577.WBPS14.annotations.gff3\" -T -o \"$gdir/schistosoma_mansoni.PRJEA36577.WBPS14.annotations.gtf\""
   ]
  },
  {
   "cell_type": "code",
   "execution_count": null,
   "metadata": {},
   "outputs": [],
   "source": [
    "# Overhang\n",
    "i=149\n",
    "\n",
    "# Make STAR ref folder\n",
    "mkdir \"$gdir/S.mansoni_STAR_${i}\"\n",
    "\n",
    "STAR --runMode genomeGenerate \\\n",
    "     --runThreadN $(nproc)    \\\n",
    "     --genomeDir \"$gdir/S.mansoni_STAR_${i}\" \\\n",
    "     --genomeFastaFiles \"$gdir/schistosoma_mansoni.PRJEA36577.WBPS14.genomic.fa\" \\\n",
    "     --sjdbGTFfile \"$gdir/schistosoma_mansoni.PRJEA36577.WBPS14.annotations.gtf\" \\\n",
    "     --sjdbOverhang $i\n",
    "#     --outFileNamePrefix \"$gdir/\"\n",
    "\n",
    "# Move log\n",
    "mv Log.out \"$gdir/S.mansoni_STAR_${i}/\""
   ]
  },
  {
   "cell_type": "markdown",
   "metadata": {},
   "source": [
    "### RSEM reference\n",
    "\n",
    "RSEM requires to generate a reference using the GFF and the reference genome file as mentioned in the documentation."
   ]
  },
  {
   "cell_type": "code",
   "execution_count": null,
   "metadata": {},
   "outputs": [],
   "source": [
    "# Make RSEM ref folder\n",
    "mkdir \"$gdir/S.mansoni_RSEM\"\n",
    "\n",
    "rsem-prepare-reference --gtf \"$gdir/schistosoma_mansoni.PRJEA36577.WBPS14.annotations.gtf\" \\\n",
    "        -p $(nproc) \\\n",
    "        \"$gdir/schistosoma_mansoni.PRJEA36577.WBPS14.genomic.fa\" \\\n",
    "        \"$gdir/S.mansoni_RSEM/S.mansoni\" > \"$gdir/S.mansoni_RSEM/log\""
   ]
  },
  {
   "cell_type": "markdown",
   "metadata": {},
   "source": [
    "## Data quality"
   ]
  },
  {
   "cell_type": "code",
   "execution_count": null,
   "metadata": {},
   "outputs": [],
   "source": [
    "resdir=\"results\"\n",
    "[[ -d \"$resdir\" ]] || mkdir \"$resdir\"\n",
    "\n",
    "multiqc -ip -o \"$resdir/1-report/\" data/libraries"
   ]
  },
  {
   "cell_type": "markdown",
   "metadata": {},
   "source": [
    "## Alignment and quantification\n",
    "\n",
    "Use a snakemake pipeline to align and perform transcript quantification using STAR. It requires a cluster running Sun/Oracle Grid Engine. If data and genome folder have been modified, these modifications must be reported in the snakemake file."
   ]
  },
  {
   "cell_type": "code",
   "execution_count": null,
   "metadata": {},
   "outputs": [],
   "source": [
    "# Directory to store status files\n",
    "statdir=status\n",
    "[[ ! -d \"$statdir\" ]] && mkdir \"$statdir\"\n",
    "\n",
    "# Snakemake pipeline\n",
    "snakemake --snakefile snakefile --cluster \"qsub -V -cwd -o \"$statdir\" -j y -r y -pe smp 10 -S /bin/bash\" --jobs 24 -w 120"
   ]
  },
  {
   "cell_type": "code",
   "execution_count": null,
   "metadata": {
    "ExecuteTime": {
     "end_time": "2021-01-25T22:13:54.622708Z",
     "start_time": "2021-01-25T22:13:49.128067Z"
    }
   },
   "outputs": [],
   "source": [
    "ldir=\"data/libraries/\"\n",
    "qdir=\"$resdir/3-quantification\"\n",
    "\n",
    "[[ -d \"$qdir\" ]] || mkdir \"$qdir\"\n",
    "\n",
    "rsem-generate-data-matrix \"$ldir/\"*/*isoforms.results > \"$qdir/PZQ-ER-ES.isoform.counts.matrix\"\n",
    "rsem-generate-data-matrix \"$ldir/\"*/*genes.results > \"$qdir/PZQ-ER-ES.gene.counts.matrix\""
   ]
  },
  {
   "cell_type": "markdown",
   "metadata": {},
   "source": [
    "## Gene and isoform expression analysis\n",
    "\n",
    "\n",
    "### Factors structuring the data\n",
    "\n",
    "We first ensure that the transcriptomic variations is first explained by the sample type rather than any other factors. For this we performed a GLM-PCA on the expression data of each sample."
   ]
  },
  {
   "cell_type": "code",
   "execution_count": null,
   "metadata": {
    "ExecuteTime": {
     "end_time": "2021-01-25T23:27:24.628380Z",
     "start_time": "2021-01-25T23:26:43.459763Z"
    }
   },
   "outputs": [],
   "source": [
    "# GLM-PCA to test if other than biological effects exists\n",
    "Rscript scripts/RNA-seq_PCA.R"
   ]
  },
  {
   "cell_type": "markdown",
   "metadata": {},
   "source": [
    "This shows that the samples clustered first by stage, then by sex. No other factors (like sequencing lane) explain the structuration of the data.\n",
    "\n",
    "\n",
    "### Global analysis\n",
    "\n",
    "We look at differences in gene and isoform expression between ER and ES populations and between stages. We also highlight the genes under QTL 2 and QTL 3. The QTL were obtained from the genome wide association study (GWAS) conducted on SmLE-PZQ-R (see the XX)."
   ]
  },
  {
   "cell_type": "code",
   "execution_count": null,
   "metadata": {
    "ExecuteTime": {
     "end_time": "2021-06-06T16:30:35.274817Z",
     "start_time": "2021-06-06T16:30:31.760726Z"
    }
   },
   "outputs": [],
   "source": [
    "# Directory\n",
    "genedir=\"results/2-QTL\"\n",
    "[[ ! -d \"$genedir\" ]] && mkdir -p \"$genedir\"\n",
    "\n",
    "# BED files of the QTL bondaries\n",
    "bed2=$(echo -e \"SM_V7_2\\t291191\\t1457462\")\n",
    "bed3=$(echo -e \"SM_V7_3\\t22805\\t4013538\")\n",
    "\n",
    "#List of genes under QTL of chr. 2\n",
    "bedtools intersect -a \"$gdir/schistosoma_mansoni.PRJEA36577.WBPS14.annotations.gff3\" -b <(echo \"$bed2\") -wa |\\\n",
    "    awk '$3 == \"gene\"' |\\\n",
    "    cut -f 9 |\\\n",
    "    cut -d \";\" -f 1 |\\\n",
    "    cut -d \":\" -f 2 |\\\n",
    "    sort -u > \"$genedir/QTL_genes_chr2\"\n",
    "\n",
    "#List of genes under QTL of chr. 3\n",
    "bedtools intersect -a \"$gdir/schistosoma_mansoni.PRJEA36577.WBPS14.annotations.gff3\" -b <(echo \"$bed3\") -wa |\\\n",
    "    awk '$3 == \"gene\"' |\\\n",
    "    cut -f 9 |\\\n",
    "    cut -d \";\" -f 1 |\\\n",
    "    cut -d \":\" -f 2 |\\\n",
    "    sort -u > \"$genedir/QTL_genes_chr3\""
   ]
  },
  {
   "cell_type": "code",
   "execution_count": null,
   "metadata": {
    "ExecuteTime": {
     "end_time": "2021-01-26T02:34:46.665395Z",
     "start_time": "2021-01-26T01:12:17.745906Z"
    }
   },
   "outputs": [],
   "source": [
    "# Formal analysis of the complete RNA-seq data\n",
    "Rscript scripts/RNA-seq_analysis.R"
   ]
  },
  {
   "cell_type": "code",
   "execution_count": null,
   "metadata": {
    "ExecuteTime": {
     "end_time": "2021-01-26T03:37:51.860676Z",
     "start_time": "2021-01-26T03:37:41.186468Z"
    }
   },
   "outputs": [],
   "source": [
    "# Specific analysis of Smp_246790\n",
    "Rscript scripts/RNA-seq_TRP_analysis.R"
   ]
  },
  {
   "cell_type": "code",
   "execution_count": null,
   "metadata": {
    "ExecuteTime": {
     "end_time": "2021-06-06T16:37:53.136049Z",
     "start_time": "2021-06-06T16:37:46.275588Z"
    }
   },
   "outputs": [],
   "source": [
    "Rscript scripts/Fig.6.R"
   ]
  }
 ],
 "metadata": {
  "kernelspec": {
   "display_name": "Bash",
   "language": "bash",
   "name": "bash"
  },
  "language_info": {
   "codemirror_mode": "shell",
   "file_extension": ".sh",
   "mimetype": "text/x-sh",
   "name": "bash"
  },
  "toc": {
   "base_numbering": 1,
   "nav_menu": {},
   "number_sections": false,
   "sideBar": true,
   "skip_h1_title": true,
   "title_cell": "Table of Contents",
   "title_sidebar": "Contents",
   "toc_cell": false,
   "toc_position": {},
   "toc_section_display": true,
   "toc_window_display": true
  },
  "varInspector": {
   "cols": {
    "lenName": 16,
    "lenType": 16,
    "lenVar": 40
   },
   "kernels_config": {
    "python": {
     "delete_cmd_postfix": "",
     "delete_cmd_prefix": "del ",
     "library": "var_list.py",
     "varRefreshCmd": "print(var_dic_list())"
    },
    "r": {
     "delete_cmd_postfix": ") ",
     "delete_cmd_prefix": "rm(",
     "library": "var_list.r",
     "varRefreshCmd": "cat(var_dic_list()) "
    }
   },
   "types_to_exclude": [
    "module",
    "function",
    "builtin_function_or_method",
    "instance",
    "_Feature"
   ],
   "window_display": false
  }
 },
 "nbformat": 4,
 "nbformat_minor": 4
}
