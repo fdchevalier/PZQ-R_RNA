{
 "cells": [
  {
   "cell_type": "markdown",
   "metadata": {},
   "source": [
    "# PZQ-ER-ES RNA-seq\n",
    "\n",
    "\n",
    "## Aim\n",
    "\n",
    "We will analyze gene expression of juvenile and adult worms from SmLE-PZQ-ER and SmLE-PZQ-ES populations to test if gene expression differences could be associated to the phenotype. The hypothesis is that we should observed differences in expression between ER and ES adults but not necessarily between ER and ES juveniles as those are naturally recovering from the PZQ treatment independently of the adult status.\n",
    "\n",
    "\n",
    "## Environment and data"
   ]
  },
  {
   "cell_type": "code",
   "execution_count": null,
   "metadata": {},
   "outputs": [],
   "source": [
    "conda env create -f .env/env.yml"
   ]
  },
  {
   "cell_type": "code",
   "execution_count": 2,
   "metadata": {},
   "outputs": [
    {
     "name": "stdout",
     "output_type": "stream",
     "text": [
      "(PZQ-R) "
     ]
    },
    {
     "ename": "",
     "evalue": "1",
     "output_type": "error",
     "traceback": []
    }
   ],
   "source": [
    "# Activate the environment\n",
    "source $(sed \"s,/bin/conda,,\" <<<$CONDA_EXE)/etc/profile.d/conda.sh\n",
    "conda activate PZQ-R"
   ]
  },
  {
   "cell_type": "code",
   "execution_count": null,
   "metadata": {},
   "outputs": [],
   "source": [
    "gdir=\"data/genome\"\n",
    "[[ ! -d \"$gdir\" ]] && mkdir \"$gdir\"\n",
    "\n",
    "wget -P \"$gdir\" ftp://ftp.ebi.ac.uk/pub/databases/wormbase/parasite/releases/WBPS14/species/schistosoma_mansoni/PRJEA36577/schistosoma_mansoni.PRJEA36577.WBPS14.genomic.fa.gz\n",
    "\n",
    "pigz -d \"$gdir/schistosoma_mansoni.PRJEA36577.WBPS14.genomic.fa.gz\"\n",
    "\n",
    "# Preparing indices\n",
    "#bwa index \"$gdir/schistosoma_mansoni.PRJEA36577.WBPS14.genomic.fa\"\n",
    "#samtools faidx \"$gdir/schistosoma_mansoni.PRJEA36577.WBPS14.genomic.fa\"\n",
    "#gatk CreateSequenceDictionary -R \"$gdir/schistosoma_mansoni.PRJEA36577.WBPS14.genomic.fa\""
   ]
  },
  {
   "cell_type": "code",
   "execution_count": null,
   "metadata": {},
   "outputs": [],
   "source": [
    "wget -P \"$gdir\" ftp://ftp.ebi.ac.uk/pub/databases/wormbase/parasite/releases/WBPS14/species/schistosoma_mansoni/PRJEA36577/schistosoma_mansoni.PRJEA36577.WBPS14.annotations.gff3.gz\n",
    "\n",
    "pigz -d \"$gdir/schistosoma_mansoni.PRJEA36577.WBPS14.annotations.gff3.gz\""
   ]
  },
  {
   "cell_type": "markdown",
   "metadata": {},
   "source": [
    "STAR will be used to align data and RSEM will be used to generate transcript per million (TPM) counts. These two tools require a step to prepare the reference genome.\n",
    "\n",
    "### STAR reference genome\n",
    "\n",
    "Creating a STAR reference genome requires the use of an annotation file. The Sanger Institute provided us with a GFF file which a format that can be normally used with STAR. However my first attempt to generate a STAR reference genome using the `--sjdbGTFtagExonParentTranscript Parent` option as mentioned in the manual did not allow me to get gene counts after running STAR on sample (the gene count file contains only the first 4 lines). This problem is very similar to [this](https://groups.google.com/forum/#!msg/rna-star/oRvzihFXE8k/Xa-7YgUUBgAJ). Therefore I converted the GFF file into a GTF file which is the default format used by STAR and this solved the problem.\n",
    "\n",
    "Because the data used were generated on different platforms that produced different read sizes, I made two reference genomes using different values for the `--sjdbOverhang` option as recommended in the STAR documentation:\n",
    "* A value of 75 for libraries that have 76 bp paired-end reads (the Protasio *et al* 2012).\n",
    "* A value of 99 for libraries that have 100 bp paired-end reads (all the others)."
   ]
  },
  {
   "cell_type": "code",
   "execution_count": 5,
   "metadata": {},
   "outputs": [
    {
     "name": "stdout",
     "output_type": "stream",
     "text": [
      "(PZQ-R) (PZQ-R) "
     ]
    },
    {
     "ename": "",
     "evalue": "1",
     "output_type": "error",
     "traceback": []
    }
   ],
   "source": [
    "# Convert GFF into GTF file\n",
    "gffread \"$gdir/schistosoma_mansoni.PRJEA36577.WBPS14.annotations.gff3\" -T -o \"$gdir/schistosoma_mansoni.PRJEA36577.WBPS14.annotations.gtf\""
   ]
  },
  {
   "cell_type": "code",
   "execution_count": null,
   "metadata": {},
   "outputs": [
    {
     "name": "stdout",
     "output_type": "stream",
     "text": [
      "(PZQ-R) (PZQ-R) (PZQ-R) (PZQ-R) (PZQ-R) (PZQ-R) May 01 15:11:21 ..... started STAR run\n",
      "May 01 15:11:21 ... starting to generate Genome files\n",
      "WARNING: --genomeSAindexNbases 14 is too large for the genome size=478150656, which may cause seg-fault at the mapping step. Re-run genome generation with recommended --genomeSAindexNbases 13\t\t May 01 15:12:17\n",
      "May 01 15:12:20 ... starting to sort Suffix Array. This may take a long time...\n",
      "May 01 15:12:25 ... sorting Suffix Array chunks and saving them to disk...\n"
     ]
    }
   ],
   "source": [
    "# Overhang\n",
    "i=139\n",
    "\n",
    "# Make STAR ref folder\n",
    "mkdir \"$gdir/S.mansoni_STAR_${i}\"\n",
    "\n",
    "STAR --runMode genomeGenerate \\\n",
    "     --runThreadN $(nproc)    \\\n",
    "     --genomeDir \"$gdir/S.mansoni_STAR_${i}\" \\\n",
    "     --genomeFastaFiles \"$gdir/schistosoma_mansoni.PRJEA36577.WBPS14.genomic.fa\" \\\n",
    "     --sjdbGTFfile \"$gdir/schistosoma_mansoni.PRJEA36577.WBPS14.annotations.gtf\" \\\n",
    "     --sjdbOverhang $i\n",
    "#     --outFileNamePrefix \"$gdir/\"\n",
    "\n",
    "# Move log\n",
    "mv Log.out \"$gdir/S.mansoni_STAR_${i}/\""
   ]
  },
  {
   "cell_type": "markdown",
   "metadata": {},
   "source": [
    "### RSEM reference\n",
    "\n",
    "RSEM requires to generate a reference using the GFF and the reference genome file as mentioned in the documentation."
   ]
  },
  {
   "cell_type": "code",
   "execution_count": 6,
   "metadata": {},
   "outputs": [
    {
     "name": "stdout",
     "output_type": "stream",
     "text": [
      "(PZQ-R) mkdir: cannot create directory `data/genome/S.mansoni_RSEM': File exists\n",
      "(PZQ-R) (PZQ-R) (PZQ-R) "
     ]
    },
    {
     "ename": "",
     "evalue": "1",
     "output_type": "error",
     "traceback": []
    }
   ],
   "source": [
    "# Make RSEM ref folder\n",
    "mkdir \"$gdir/S.mansoni_RSEM\"\n",
    "\n",
    "rsem-prepare-reference --gtf \"$gdir/schistosoma_mansoni.PRJEA36577.WBPS14.annotations.gtf\" \\\n",
    "        -p $(nproc) \\\n",
    "        \"$gdir/schistosoma_mansoni.PRJEA36577.WBPS14.genomic.fa\" \\\n",
    "        \"$gdir/S.mansoni_RSEM/S.mansoni\" > \"$gdir/S.mansoni_RSEM/log\""
   ]
  },
  {
   "cell_type": "code",
   "execution_count": 3,
   "metadata": {},
   "outputs": [
    {
     "name": "stdout",
     "output_type": "stream",
     "text": [
      "(PZQ-R) "
     ]
    },
    {
     "ename": "",
     "evalue": "1",
     "output_type": "error",
     "traceback": []
    }
   ],
   "source": [
    "gdir=\"data/genome\""
   ]
  },
  {
   "cell_type": "markdown",
   "metadata": {},
   "source": [
    "## Data quality"
   ]
  },
  {
   "cell_type": "code",
   "execution_count": 13,
   "metadata": {},
   "outputs": [
    {
     "name": "stdout",
     "output_type": "stream",
     "text": [
      "\u001b[1;30m[INFO   ]\u001b[0m         multiqc : This is MultiQC v1.8\n",
      "\u001b[1;30m[INFO   ]\u001b[0m         multiqc : Template    : default\n",
      "\u001b[1;30m[INFO   ]\u001b[0m         multiqc : Searching   : /data/infectious/schistosome/06 - PZQ resistance/2020-04-19 PZQ-ES-ER juveniles RNA-seq/1-Analysis/data/libraries\n",
      "\u001b[?25lSearching 312 files..  [####################################]  100%          \u001b[?25h\n",
      "\u001b[1;30m[INFO   ]\u001b[0m            star : Found 24 reports and 24 gene count files\n",
      "\u001b[1;30m[INFO   ]\u001b[0m          fastqc : Found 48 reports\n",
      "\u001b[1;30m[INFO   ]\u001b[0m         multiqc : Compressing plot data\n",
      "\u001b[1;30m[INFO   ]\u001b[0m         multiqc : Report      : results/1-report/multiqc_report.html\n",
      "\u001b[1;30m[INFO   ]\u001b[0m         multiqc : Data        : results/1-report/multiqc_data\n",
      "\u001b[1;30m[INFO   ]\u001b[0m         multiqc : MultiQC complete\n",
      "(PZQ-R) 0\n",
      "(PZQ-R) (PZQ-R) (PZQ-R) "
     ]
    },
    {
     "ename": "",
     "evalue": "1",
     "output_type": "error",
     "traceback": []
    }
   ],
   "source": [
    "resdir=\"results\"\n",
    "[[ -d \"$resdir\" ]] || mkdir \"$resdir\"\n",
    "\n",
    "multiqc -ip -o \"$resdir/1-report/\" data/libraries"
   ]
  },
  {
   "cell_type": "markdown",
   "metadata": {},
   "source": [
    "## Alignment and quantification\n",
    "\n",
    "Use a snakemake pipeline to align and perform transcript quantification using STAR. It requires a cluster running Sun/Oracle Grid Engine. If data and genome folder have been modified, these modifications must be reported in the snakemake file."
   ]
  },
  {
   "cell_type": "code",
   "execution_count": null,
   "metadata": {},
   "outputs": [],
   "source": [
    "# Directory to store status files\n",
    "[[ ! -d status ]] && mkdir status\n",
    "\n",
    "# Snakemake pipeline\n",
    "snakemake --snakefile snakefile --cluster \"qsub -V -cwd -o status -j y -r y -pe smp 12 -S /bin/bash\" --jobs 24 -w 300"
   ]
  },
  {
   "cell_type": "code",
   "execution_count": 10,
   "metadata": {},
   "outputs": [
    {
     "name": "stdout",
     "output_type": "stream",
     "text": [
      "(PZQ-R) (PZQ-R) (PZQ-R) (PZQ-R) (PZQ-R) (PZQ-R) (PZQ-R) (PZQ-R) (PZQ-R) (PZQ-R) "
     ]
    },
    {
     "ename": "",
     "evalue": "1",
     "output_type": "error",
     "traceback": []
    }
   ],
   "source": [
    "ldir=\"data/libraries/\"\n",
    "qdir=\"$resdir/3-quantification\"\n",
    "\n",
    "[[ -d \"$qdir\" ]] || mkdir \"$qdir\"\n",
    "\n",
    "rsem-generate-data-matrix \"$ldir/\"*/*isoforms.results > \"$qdir/PZQ-ER-ES.isoform.counts.matrix\"\n",
    "rsem-generate-data-matrix \"$ldir/\"*/*genes.results > \"$qdir/PZQ-ER-ES.gene.counts.matrix\""
   ]
  },
  {
   "cell_type": "markdown",
   "metadata": {},
   "source": [
    "## Analysis\n",
    "\n",
    "We use R scripts for analyzing the data."
   ]
  },
  {
   "cell_type": "code",
   "execution_count": null,
   "metadata": {},
   "outputs": [],
   "source": [
    "# GLM-PCA to test if other than biological effects exists\n",
    "Rscript scripts/RNA-seq_PCA.R"
   ]
  },
  {
   "cell_type": "code",
   "execution_count": null,
   "metadata": {},
   "outputs": [],
   "source": [
    "# Formal analysis of the complete RNA-seq data\n",
    "Rscript scripts/RNA-seq_analysis.R"
   ]
  },
  {
   "cell_type": "code",
   "execution_count": null,
   "metadata": {},
   "outputs": [],
   "source": [
    "# Specific analysis of Smp_246790\n",
    "Rscript scripts/RNA-seq_TRP_analysis.R"
   ]
  }
 ],
 "metadata": {
  "kernelspec": {
   "display_name": "Bash",
   "language": "bash",
   "name": "bash"
  },
  "language_info": {
   "codemirror_mode": "shell",
   "file_extension": ".sh",
   "mimetype": "text/x-sh",
   "name": "bash"
  },
  "toc": {
   "base_numbering": 1,
   "nav_menu": {},
   "number_sections": false,
   "sideBar": true,
   "skip_h1_title": true,
   "title_cell": "Table of Contents",
   "title_sidebar": "Contents",
   "toc_cell": false,
   "toc_position": {},
   "toc_section_display": true,
   "toc_window_display": false
  },
  "varInspector": {
   "cols": {
    "lenName": 16,
    "lenType": 16,
    "lenVar": 40
   },
   "kernels_config": {
    "python": {
     "delete_cmd_postfix": "",
     "delete_cmd_prefix": "del ",
     "library": "var_list.py",
     "varRefreshCmd": "print(var_dic_list())"
    },
    "r": {
     "delete_cmd_postfix": ") ",
     "delete_cmd_prefix": "rm(",
     "library": "var_list.r",
     "varRefreshCmd": "cat(var_dic_list()) "
    }
   },
   "types_to_exclude": [
    "module",
    "function",
    "builtin_function_or_method",
    "instance",
    "_Feature"
   ],
   "window_display": false
  }
 },
 "nbformat": 4,
 "nbformat_minor": 4
}
